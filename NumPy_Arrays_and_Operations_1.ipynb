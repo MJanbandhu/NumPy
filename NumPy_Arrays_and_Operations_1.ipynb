{
  "cells": [
    {
      "cell_type": "markdown",
      "metadata": {
        "id": "view-in-github",
        "colab_type": "text"
      },
      "source": [
        "<a href=\"https://colab.research.google.com/github/MJanbandhu/NumPy/blob/main/NumPy_Arrays_and_Operations_1.ipynb\" target=\"_parent\"><img src=\"https://colab.research.google.com/assets/colab-badge.svg\" alt=\"Open In Colab\"/></a>"
      ]
    },
    {
      "cell_type": "markdown",
      "metadata": {
        "id": "F9WV06phx9CZ"
      },
      "source": [
        "# NumPy\n",
        "NumPy is a Linear Algebra Library in Python and it is the holy grail and the main building block of Data Science using Python. Almost all the libraries in the PyData Ecosystem rely on NumPy as one of their main building blocks.\n",
        "\n",
        "It is bound to several C libraries which makes NumPy one of the fastest libraries in Python.\n",
        "\n",
        "We will learn the basics of NumPy, to get started we need to install it!"
      ]
    },
    {
      "cell_type": "markdown",
      "metadata": {
        "id": "b6964KHMx9Cc"
      },
      "source": [
        "## Installation Instructions\n",
        "\n",
        "**It is highly recommended you install Python using the Anaconda distribution to make sure all underlying dependencies (such as Linear Algebra libraries) all sync up with the use of a conda install. If you don't have Anaconda, install NumPy by going to your terminal or command prompt and type:**\n",
        "    \n",
        "    !pip install numpy\n",
        "    conda install numpy\n",
        "    \n"
      ]
    },
    {
      "cell_type": "raw",
      "metadata": {
        "id": "yp10Ttfzg7zH"
      },
      "source": [
        "!pip install numpy"
      ]
    },
    {
      "cell_type": "markdown",
      "metadata": {
        "id": "PWYZNm8Kx9Ce"
      },
      "source": [
        "## Using NumPy\n",
        "\n",
        "Once you've installed NumPy you can import it as a library:"
      ]
    },
    {
      "cell_type": "code",
      "execution_count": null,
      "metadata": {
        "id": "jgYIrfvWx9Cf"
      },
      "outputs": [],
      "source": [
        "import numpy as np"
      ]
    },
    {
      "cell_type": "markdown",
      "metadata": {
        "id": "_jtfQ1Rax9Cg"
      },
      "source": [
        "Numpy has many built-in functions and capabilities. We won't cover them all but instead we will focus on some of the most important aspects of Numpy: vectors,arrays,matrices, and number generation.\n",
        "\n",
        "# Numpy Arrays\n",
        "\n",
        "Numpy arrays essentially of two types: vectors and matrices. Vectors are strictly 1-D arrays and matrices are 2-D (Note: A matrix can still have only one row or one column).\n",
        "\n",
        "The following cells explain on creation of NumPy arrays.\n",
        "\n",
        "## Creating NumPy Arrays\n",
        "\n",
        "### From a Python List\n",
        "\n",
        "An array can be created by directly converting a list or list of lists:"
      ]
    },
    {
      "cell_type": "code",
      "execution_count": null,
      "metadata": {
        "id": "xVa3dQyxmuus"
      },
      "outputs": [],
      "source": [
        "import numpy as np"
      ]
    },
    {
      "cell_type": "code",
      "execution_count": null,
      "metadata": {
        "id": "SB4Okrgtmuut",
        "outputId": "e2c3c234-8237-4c41-a75b-a51dea32e070"
      },
      "outputs": [
        {
          "data": {
            "text/plain": [
              "array([], dtype=float64)"
            ]
          },
          "execution_count": 3,
          "metadata": {},
          "output_type": "execute_result"
        }
      ],
      "source": [
        "arr1 = np.array([])   # create an empty array\n",
        "arr1"
      ]
    },
    {
      "cell_type": "code",
      "execution_count": null,
      "metadata": {
        "colab": {
          "base_uri": "https://localhost:8080/"
        },
        "id": "Vvb1Lullx9Ch",
        "outputId": "bf52551f-1e16-4c92-f734-dfba4a9cda4e"
      },
      "outputs": [
        {
          "name": "stdout",
          "output_type": "stream",
          "text": [
            "[1, 2, 3, 4, 5]\n",
            "<class 'list'>\n"
          ]
        }
      ],
      "source": [
        "my_list = [1,2,3,4,5]\n",
        "print(my_list)\n",
        "print(type(my_list))"
      ]
    },
    {
      "cell_type": "code",
      "execution_count": null,
      "metadata": {
        "id": "wSLGXSzvmuuv",
        "outputId": "ee0e2684-88f3-43dd-966c-e2ebecad0741"
      },
      "outputs": [
        {
          "name": "stdout",
          "output_type": "stream",
          "text": [
            "<class 'tuple'>\n"
          ]
        }
      ],
      "source": [
        "t=tuple(my_list)\n",
        "print(type(t))"
      ]
    },
    {
      "cell_type": "code",
      "execution_count": null,
      "metadata": {
        "id": "Ep70Thg0muuv",
        "outputId": "d0295d9a-aa45-41c5-cc04-4f4303b89c6a"
      },
      "outputs": [
        {
          "data": {
            "text/plain": [
              "(1, 2, 3, 4, 5)"
            ]
          },
          "execution_count": 7,
          "metadata": {},
          "output_type": "execute_result"
        }
      ],
      "source": [
        "t"
      ]
    },
    {
      "cell_type": "code",
      "execution_count": null,
      "metadata": {
        "id": "FJ7VRQSsx9Cj"
      },
      "outputs": [],
      "source": [
        "a=np.array(my_list)"
      ]
    },
    {
      "cell_type": "code",
      "execution_count": null,
      "metadata": {
        "id": "FZKV4vtOg7zM",
        "outputId": "b7e78fc9-1c9e-4f48-add9-3da5a0e6e2c6"
      },
      "outputs": [
        {
          "data": {
            "text/plain": [
              "array([1, 2, 3, 4, 5])"
            ]
          },
          "execution_count": 9,
          "metadata": {},
          "output_type": "execute_result"
        }
      ],
      "source": [
        "a"
      ]
    },
    {
      "cell_type": "code",
      "execution_count": null,
      "metadata": {
        "id": "RhifsT--muuw",
        "outputId": "bf37fa1f-7ad6-4ef1-b9fb-660893155698"
      },
      "outputs": [
        {
          "data": {
            "text/plain": [
              "numpy.ndarray"
            ]
          },
          "execution_count": 10,
          "metadata": {},
          "output_type": "execute_result"
        }
      ],
      "source": [
        "type(a)   # ndarray is number dimension array"
      ]
    },
    {
      "cell_type": "code",
      "execution_count": null,
      "metadata": {
        "id": "bD01BPbFmuux",
        "outputId": "e3cfca28-0593-4477-eafb-d273b279ec93"
      },
      "outputs": [
        {
          "data": {
            "text/plain": [
              "1"
            ]
          },
          "execution_count": 11,
          "metadata": {},
          "output_type": "execute_result"
        }
      ],
      "source": [
        "a.ndim  # number of dimensions in the array"
      ]
    },
    {
      "cell_type": "code",
      "execution_count": null,
      "metadata": {
        "id": "VYc9CY7tmuux",
        "outputId": "fd3369a6-ac46-48b4-dff8-2a27fe3e3dff"
      },
      "outputs": [
        {
          "data": {
            "text/plain": [
              "5"
            ]
          },
          "execution_count": 12,
          "metadata": {},
          "output_type": "execute_result"
        }
      ],
      "source": [
        "a.size  # size of an array is the no. of items"
      ]
    },
    {
      "cell_type": "code",
      "execution_count": null,
      "metadata": {
        "id": "UfzyZnE0muux"
      },
      "outputs": [],
      "source": [
        "a.shape # shape of array"
      ]
    },
    {
      "cell_type": "markdown",
      "metadata": {
        "id": "Dzrn-E7Gmuux"
      },
      "source": [
        "#### Arrays can be of n dimensions."
      ]
    },
    {
      "cell_type": "code",
      "execution_count": null,
      "metadata": {
        "id": "2mkVSsT8x9Cn"
      },
      "outputs": [],
      "source": [
        "my_matrix = [[1,2,3,4],[5,6,7,8],[9,10,11,12]] # list of lists\n",
        "my_matrix"
      ]
    },
    {
      "cell_type": "code",
      "execution_count": null,
      "metadata": {
        "id": "BKYc1amPx9Cp"
      },
      "outputs": [],
      "source": [
        "b=np.array(my_matrix) # generates a 2-d array\n",
        "b"
      ]
    },
    {
      "cell_type": "code",
      "execution_count": null,
      "metadata": {
        "id": "yIlSprCJg7zO"
      },
      "outputs": [],
      "source": [
        "# Array summary\n",
        "print('The Dimension of array',b.ndim) # dimensions of given array"
      ]
    },
    {
      "cell_type": "code",
      "execution_count": null,
      "metadata": {
        "id": "WGip-VPGg7zO"
      },
      "outputs": [],
      "source": [
        "print('The size of array:',b.size) # Number of elements in array"
      ]
    },
    {
      "cell_type": "code",
      "execution_count": null,
      "metadata": {
        "id": "4h_1Gowlg7zO"
      },
      "outputs": [],
      "source": [
        "print('The datatype of element:',b.dtype) # Datatype of elements in array"
      ]
    },
    {
      "cell_type": "code",
      "execution_count": null,
      "metadata": {
        "id": "1T3XoUerg7zP",
        "scrolled": true
      },
      "outputs": [],
      "source": [
        "print('The type of structure:',type(b))"
      ]
    },
    {
      "cell_type": "code",
      "execution_count": null,
      "metadata": {
        "id": "FNeAjaTcg7zP",
        "scrolled": false
      },
      "outputs": [],
      "source": [
        "print('The shape:',b.shape)"
      ]
    },
    {
      "cell_type": "code",
      "execution_count": null,
      "metadata": {
        "id": "cpHaJgURmuuy"
      },
      "outputs": [],
      "source": [
        "b.shape"
      ]
    },
    {
      "cell_type": "code",
      "execution_count": null,
      "metadata": {
        "id": "fErQjnK2muuz"
      },
      "outputs": [],
      "source": []
    },
    {
      "cell_type": "code",
      "execution_count": null,
      "metadata": {
        "id": "nvtbefulmuuz"
      },
      "outputs": [],
      "source": [
        "arr1= np.array([[[1,2,3],[4,5,6]], [[7,8,9],[10,11,12]]])\n",
        "arr1"
      ]
    },
    {
      "cell_type": "code",
      "execution_count": null,
      "metadata": {
        "id": "QrMtrSczmuuz"
      },
      "outputs": [],
      "source": [
        "arr1.shape"
      ]
    },
    {
      "cell_type": "markdown",
      "metadata": {
        "id": "CBWvGXItx9Cq"
      },
      "source": [
        "## Built-in Methods\n",
        "\n",
        "There are lots of built-in ways to generate Arrays"
      ]
    },
    {
      "cell_type": "markdown",
      "metadata": {
        "id": "AccHA1Ugmuuz"
      },
      "source": [
        "### Reshape function"
      ]
    },
    {
      "cell_type": "code",
      "execution_count": null,
      "metadata": {
        "id": "xGnw05mTmuuz"
      },
      "outputs": [],
      "source": [
        "arr1"
      ]
    },
    {
      "cell_type": "code",
      "execution_count": null,
      "metadata": {
        "id": "WCAsZ4lrmuuz"
      },
      "outputs": [],
      "source": [
        "arr2=arr1.reshape((1,3,4))  # reshape function takes the new shape as its argument"
      ]
    },
    {
      "cell_type": "code",
      "execution_count": null,
      "metadata": {
        "id": "9kpiTPHMmuu0"
      },
      "outputs": [],
      "source": [
        "arr2"
      ]
    },
    {
      "cell_type": "code",
      "execution_count": null,
      "metadata": {
        "scrolled": true,
        "id": "aWO_IPsZmuu0"
      },
      "outputs": [],
      "source": [
        "arr2.shape"
      ]
    },
    {
      "cell_type": "markdown",
      "metadata": {
        "id": "5Cv-5217x9Cr"
      },
      "source": [
        "### arange\n",
        "\n",
        "Return evenly spaced values within a given interval."
      ]
    },
    {
      "cell_type": "code",
      "execution_count": null,
      "metadata": {
        "id": "RdQZ7p_ig7zQ"
      },
      "outputs": [],
      "source": [
        "np.arange(15) # end; default start at 0"
      ]
    },
    {
      "cell_type": "code",
      "execution_count": null,
      "metadata": {
        "id": "2G1rfwlGmuu0"
      },
      "outputs": [],
      "source": [
        "np.arange(100,2,-4) # start, end and step"
      ]
    },
    {
      "cell_type": "code",
      "execution_count": null,
      "metadata": {
        "id": "mghsYj9Kx9Cu"
      },
      "outputs": [],
      "source": [
        "np.arange(0,11,2) # start end and step"
      ]
    },
    {
      "cell_type": "markdown",
      "metadata": {
        "id": "Eoo2efIBx9Cw"
      },
      "source": [
        "### zeros and ones\n",
        "\n",
        "Generate arrays of zeros or ones"
      ]
    },
    {
      "cell_type": "code",
      "execution_count": null,
      "metadata": {
        "id": "Ym_zxsdZmuu1"
      },
      "outputs": [],
      "source": [
        "import numpy as np"
      ]
    },
    {
      "cell_type": "code",
      "execution_count": null,
      "metadata": {
        "id": "M-EcBWFHx9Cw"
      },
      "outputs": [],
      "source": [
        "np.zeros(3) # Generates array in 1 dimension with all elements 0"
      ]
    },
    {
      "cell_type": "code",
      "execution_count": null,
      "metadata": {
        "id": "xlxP67Tpx9Cz"
      },
      "outputs": [],
      "source": [
        "np.zeros((5,5))  # Generates array in 2 diemnsions with all elements 0"
      ]
    },
    {
      "cell_type": "code",
      "execution_count": null,
      "metadata": {
        "id": "MtPqppv-x9C2"
      },
      "outputs": [],
      "source": [
        "np.ones(3) # Generates array of 1 dimension where all elements are 1"
      ]
    },
    {
      "cell_type": "code",
      "execution_count": null,
      "metadata": {
        "id": "uobcKhowg7zS"
      },
      "outputs": [],
      "source": [
        "np.ones((4,5)) # Generates array of 3 dimensions where all elements are 1"
      ]
    },
    {
      "cell_type": "markdown",
      "metadata": {
        "id": "6xCoih_Nx9C5"
      },
      "source": [
        "### linspace\n",
        "Return evenly spaced numbers over a specified interval."
      ]
    },
    {
      "cell_type": "code",
      "execution_count": null,
      "metadata": {
        "id": "vCk4nTN-muu2"
      },
      "outputs": [],
      "source": [
        "import numpy as np"
      ]
    },
    {
      "cell_type": "code",
      "execution_count": null,
      "metadata": {
        "id": "jOppuxhmmuu2"
      },
      "outputs": [],
      "source": [
        "np.linspace(1,15)  # default 50 observations\n",
        "# both the start and end are included in the array"
      ]
    },
    {
      "cell_type": "code",
      "execution_count": null,
      "metadata": {
        "id": "Rq2IQtXKmuu2"
      },
      "outputs": [],
      "source": [
        "np.linspace(5,25,10)  # equally spaced 10 values"
      ]
    },
    {
      "cell_type": "code",
      "execution_count": null,
      "metadata": {
        "id": "pBbQLWWjmuu2"
      },
      "outputs": [],
      "source": [
        "# retstep ~ return step computed by linspace"
      ]
    },
    {
      "cell_type": "code",
      "execution_count": null,
      "metadata": {
        "id": "IgfnlXsTx9C6"
      },
      "outputs": [],
      "source": [
        "np.linspace(0,25, retstep=True) # Start # end (Here end is included) and default elements are 50"
      ]
    },
    {
      "cell_type": "code",
      "execution_count": null,
      "metadata": {
        "id": "XDbw7JdLmuu2"
      },
      "outputs": [],
      "source": [
        "np.linspace(0,200,10) # default retstep=False"
      ]
    },
    {
      "cell_type": "code",
      "execution_count": null,
      "metadata": {
        "id": "p5YFcw9pmuu2"
      },
      "outputs": [],
      "source": [
        "np.linspace(0,200,10,retstep=True)"
      ]
    },
    {
      "cell_type": "markdown",
      "metadata": {
        "id": "JdFde4Sjx9C8"
      },
      "source": [
        "### eye\n",
        "\n",
        "Creates an identity matrix"
      ]
    },
    {
      "cell_type": "code",
      "execution_count": null,
      "metadata": {
        "id": "038mjaC_x9C_"
      },
      "outputs": [],
      "source": [
        "np.eye(5)   # generates 2d array of (5,5)"
      ]
    },
    {
      "cell_type": "code",
      "execution_count": null,
      "metadata": {
        "id": "OwY8mt77muu2"
      },
      "outputs": [],
      "source": [
        "# Create an eye from a zeros array"
      ]
    },
    {
      "cell_type": "markdown",
      "metadata": {
        "id": "2qFB3EISmuu2"
      },
      "source": [
        "### Broadcasting in an array"
      ]
    },
    {
      "cell_type": "code",
      "execution_count": null,
      "metadata": {
        "id": "nqyIdCfVmuu2"
      },
      "outputs": [],
      "source": [
        "my_list = [1,2,3,4,5]\n",
        "arr=np.array(my_list)\n",
        "arr"
      ]
    },
    {
      "cell_type": "code",
      "execution_count": null,
      "metadata": {
        "scrolled": true,
        "id": "bxlhaOiTmuu3"
      },
      "outputs": [],
      "source": [
        "print(my_list*3)"
      ]
    },
    {
      "cell_type": "code",
      "execution_count": null,
      "metadata": {
        "id": "aHNA1c8ymuu3"
      },
      "outputs": [],
      "source": [
        "print(arr*3)"
      ]
    },
    {
      "cell_type": "code",
      "execution_count": null,
      "metadata": {
        "id": "Ya5dZJZnmuu3"
      },
      "outputs": [],
      "source": [
        "big_one=np.ones((3,4))\n",
        "print(big_one)"
      ]
    },
    {
      "cell_type": "code",
      "execution_count": null,
      "metadata": {
        "id": "WNvwv-0Tmuu3"
      },
      "outputs": [],
      "source": [
        "big_one.dtype"
      ]
    },
    {
      "cell_type": "code",
      "execution_count": null,
      "metadata": {
        "id": "-cpuSYX2muu3"
      },
      "outputs": [],
      "source": [
        "big_one * 3"
      ]
    },
    {
      "cell_type": "markdown",
      "metadata": {
        "id": "H1udk9Zemuu3"
      },
      "source": [
        "#### The ability to access each and every element of an array is known as Broadcasting."
      ]
    },
    {
      "cell_type": "code",
      "execution_count": null,
      "metadata": {
        "id": "azOUZ2unmuu4"
      },
      "outputs": [],
      "source": [
        "bigger_one=big_one*6 - 2\n",
        "bigger_one"
      ]
    },
    {
      "cell_type": "code",
      "execution_count": null,
      "metadata": {
        "id": "5N0og3m-muu4"
      },
      "outputs": [],
      "source": [
        "bigger=np.array(big_one*3 - 0.4, dtype='int')\n",
        "print(bigger)"
      ]
    },
    {
      "cell_type": "code",
      "execution_count": null,
      "metadata": {
        "id": "NZcIcP0Fmuu4"
      },
      "outputs": [],
      "source": [
        "bigger.dtype"
      ]
    },
    {
      "cell_type": "code",
      "execution_count": null,
      "metadata": {
        "id": "jAsElTpVmuu4"
      },
      "outputs": [],
      "source": [
        "type(bigger)"
      ]
    },
    {
      "cell_type": "code",
      "execution_count": null,
      "metadata": {
        "id": "rpnamviSmuu4"
      },
      "outputs": [],
      "source": [
        "bigger.shape"
      ]
    },
    {
      "cell_type": "code",
      "execution_count": null,
      "metadata": {
        "id": "WtNeuD8tmuu4"
      },
      "outputs": [],
      "source": [
        "bigger/bigger"
      ]
    },
    {
      "cell_type": "code",
      "execution_count": null,
      "metadata": {
        "id": "oiZpTKbHmuu4"
      },
      "outputs": [],
      "source": [
        "arr1 = np.arange(20)\n",
        "1/arr1"
      ]
    },
    {
      "cell_type": "code",
      "execution_count": null,
      "metadata": {
        "id": "lkEY7nPzmuu4"
      },
      "outputs": [],
      "source": [
        "arr"
      ]
    },
    {
      "cell_type": "code",
      "execution_count": null,
      "metadata": {
        "id": "SOvzzBs1muu5"
      },
      "outputs": [],
      "source": [
        "arr + arr"
      ]
    },
    {
      "cell_type": "code",
      "execution_count": null,
      "metadata": {
        "id": "AknF-_uSmuu5"
      },
      "outputs": [],
      "source": [
        "arr ** arr"
      ]
    },
    {
      "cell_type": "markdown",
      "metadata": {
        "id": "SnMr-075muu5"
      },
      "source": [
        "### Use of Copy function"
      ]
    },
    {
      "cell_type": "code",
      "execution_count": null,
      "metadata": {
        "id": "jsI7xuWVmuu5"
      },
      "outputs": [],
      "source": [
        "arr1"
      ]
    },
    {
      "cell_type": "code",
      "execution_count": null,
      "metadata": {
        "id": "j1qEoxnRmuu5"
      },
      "outputs": [],
      "source": [
        "arr2 = arr1 # not recommended\n",
        "arr2"
      ]
    },
    {
      "cell_type": "code",
      "execution_count": null,
      "metadata": {
        "id": "9lPqiuhimuu5"
      },
      "outputs": [],
      "source": [
        "arr2[:10] = 30  # using indexing/slicing to modify arr2\n",
        "arr2"
      ]
    },
    {
      "cell_type": "code",
      "execution_count": null,
      "metadata": {
        "id": "pPLLLu3tmuu5"
      },
      "outputs": [],
      "source": [
        "arr1"
      ]
    },
    {
      "cell_type": "code",
      "execution_count": null,
      "metadata": {
        "id": "3O7nKomqmuu6"
      },
      "outputs": [],
      "source": [
        "arr3 = arr1.copy() # generate a copy / creates a backup"
      ]
    },
    {
      "cell_type": "code",
      "execution_count": null,
      "metadata": {
        "scrolled": true,
        "id": "8_dUFmrpmuu6"
      },
      "outputs": [],
      "source": [
        "arr3[15:] = 100\n",
        "arr3"
      ]
    },
    {
      "cell_type": "code",
      "execution_count": null,
      "metadata": {
        "id": "WgN-3lz8muu6"
      },
      "outputs": [],
      "source": [
        "arr1  # copy function retains the original. copy creates a backup array."
      ]
    },
    {
      "cell_type": "code",
      "execution_count": null,
      "metadata": {
        "id": "CegdhryWmuu6"
      },
      "outputs": [],
      "source": []
    },
    {
      "cell_type": "code",
      "execution_count": null,
      "metadata": {
        "id": "8WwE_wiomuu6"
      },
      "outputs": [],
      "source": []
    },
    {
      "cell_type": "markdown",
      "metadata": {
        "id": "dWJq5smax9DF"
      },
      "source": [
        "## Random number generation\n",
        "\n",
        "Numpy also has lots of ways to create random number arrays:\n",
        "\n",
        "### rand\n",
        "Create an array of the given shape and populate it with\n",
        "random samples from a uniform distribution\n",
        "over ``[0, 1)``."
      ]
    },
    {
      "cell_type": "code",
      "execution_count": null,
      "metadata": {
        "id": "Sj2h7VNDmuu6"
      },
      "outputs": [],
      "source": [
        "import numpy as np"
      ]
    },
    {
      "cell_type": "code",
      "execution_count": null,
      "metadata": {
        "id": "ACBJc18Cmuu7"
      },
      "outputs": [],
      "source": [
        "np.random.rand()"
      ]
    },
    {
      "cell_type": "code",
      "execution_count": null,
      "metadata": {
        "id": "fOvH5i4Vx9DG",
        "scrolled": true
      },
      "outputs": [],
      "source": [
        "np.random.rand(10) # rand gives values between 0 and 1"
      ]
    },
    {
      "cell_type": "code",
      "execution_count": null,
      "metadata": {
        "id": "wQAOq82Qmuu7"
      },
      "outputs": [],
      "source": [
        "np.random.rand(10).reshape((2,5))"
      ]
    },
    {
      "cell_type": "code",
      "execution_count": null,
      "metadata": {
        "id": "efcVMWykg7zT"
      },
      "outputs": [],
      "source": [
        "# Creating array from uniform distribution\n",
        "new_arr=np.random.rand(5,3)\n",
        "# 2 dimensional array of shape (5,3)"
      ]
    },
    {
      "cell_type": "code",
      "execution_count": null,
      "metadata": {
        "id": "VULrCeCumuu8"
      },
      "outputs": [],
      "source": [
        "new_arr"
      ]
    },
    {
      "cell_type": "code",
      "execution_count": null,
      "metadata": {
        "id": "FE9XNpt5x9DH"
      },
      "outputs": [],
      "source": [
        "np.random.rand(3,3)"
      ]
    },
    {
      "cell_type": "markdown",
      "metadata": {
        "id": "LrrwZjCjx9DJ"
      },
      "source": [
        "### randn\n",
        "\n",
        "Return a sample (or samples) from the \"standard normal\" distribution. Unlike rand which is uniform:"
      ]
    },
    {
      "cell_type": "code",
      "execution_count": null,
      "metadata": {
        "id": "RXGyWwoUmuu9"
      },
      "outputs": [],
      "source": [
        "# For randn, random numbbers generated will be in approximately -3 to +3 range."
      ]
    },
    {
      "cell_type": "code",
      "execution_count": null,
      "metadata": {
        "id": "i2F_3QHqx9DJ"
      },
      "outputs": [],
      "source": [
        "arr1=np.random.randn(50)  # 50 observations from std normal distribution\n",
        "arr1"
      ]
    },
    {
      "cell_type": "code",
      "execution_count": null,
      "metadata": {
        "id": "AQIGzC3hmuu-"
      },
      "outputs": [],
      "source": [
        "max(arr1)"
      ]
    },
    {
      "cell_type": "code",
      "execution_count": null,
      "metadata": {
        "id": "Jr0WU5DKmuu-"
      },
      "outputs": [],
      "source": [
        "min(arr1)"
      ]
    },
    {
      "cell_type": "code",
      "execution_count": null,
      "metadata": {
        "id": "0FP8GKD4x9DK"
      },
      "outputs": [],
      "source": [
        "np.random.randn(3,3)"
      ]
    },
    {
      "cell_type": "markdown",
      "metadata": {
        "id": "glHOxsNXx9DL"
      },
      "source": [
        "### randint\n",
        "Return random integers from `low` (inclusive) to `high` (exclusive)."
      ]
    },
    {
      "cell_type": "code",
      "execution_count": null,
      "metadata": {
        "id": "HX_-jaJvx9DL"
      },
      "outputs": [],
      "source": [
        "np.random.randint(1000,9999)\n",
        "# third argument is no. of values. default =1 value"
      ]
    },
    {
      "cell_type": "code",
      "execution_count": null,
      "metadata": {
        "id": "bE3bAdd7x9DN"
      },
      "outputs": [],
      "source": [
        "np.random.randint(1,100,10)"
      ]
    },
    {
      "cell_type": "code",
      "execution_count": null,
      "metadata": {
        "id": "NpVsLQxFmuvA"
      },
      "outputs": [],
      "source": [
        "np.random.randint(40,60,50) # generating 50 values between"
      ]
    },
    {
      "cell_type": "markdown",
      "metadata": {
        "id": "y3OefZJ-x9DP"
      },
      "source": [
        "## Array Attributes and Methods\n",
        "\n",
        "Let's discuss some useful attributes and methods or an array:"
      ]
    },
    {
      "cell_type": "code",
      "execution_count": null,
      "metadata": {
        "id": "z_ovwSrpx9DQ"
      },
      "outputs": [],
      "source": [
        "arr = np.arange(20)\n",
        "ranarr = np.random.randint(0,100,10)"
      ]
    },
    {
      "cell_type": "code",
      "execution_count": null,
      "metadata": {
        "id": "0T57o_xFx9DQ"
      },
      "outputs": [],
      "source": [
        "arr"
      ]
    },
    {
      "cell_type": "code",
      "execution_count": null,
      "metadata": {
        "id": "WQoG3B-zx9DR",
        "scrolled": true
      },
      "outputs": [],
      "source": [
        "ranarr"
      ]
    },
    {
      "cell_type": "markdown",
      "metadata": {
        "id": "QDe4ZTxsx9DU"
      },
      "source": [
        "### max,min,argmax,argmin\n",
        "\n",
        "These are useful methods for finding max or min values. Or to find their index locations using argmin or argmax"
      ]
    },
    {
      "cell_type": "code",
      "execution_count": null,
      "metadata": {
        "id": "3AJ3w4Bpx9DV"
      },
      "outputs": [],
      "source": [
        "ranarr"
      ]
    },
    {
      "cell_type": "code",
      "execution_count": null,
      "metadata": {
        "id": "0hzt20BNx9DV"
      },
      "outputs": [],
      "source": [
        "ranarr.max() # highest element of the array"
      ]
    },
    {
      "cell_type": "code",
      "execution_count": null,
      "metadata": {
        "id": "CNiObOB5g7zV"
      },
      "outputs": [],
      "source": [
        "arr.max()"
      ]
    },
    {
      "cell_type": "code",
      "execution_count": null,
      "metadata": {
        "id": "QA9P3wXnx9DW"
      },
      "outputs": [],
      "source": [
        "ranarr.argmax() ## Index location of highest element"
      ]
    },
    {
      "cell_type": "code",
      "execution_count": null,
      "metadata": {
        "id": "GEG0nh6-x9DY"
      },
      "outputs": [],
      "source": [
        "ranarr.min() # Gives the lowest element of array"
      ]
    },
    {
      "cell_type": "code",
      "execution_count": null,
      "metadata": {
        "id": "vfSoH8WMx9DZ"
      },
      "outputs": [],
      "source": [
        "ranarr.argmin() # Index location of lowest element"
      ]
    },
    {
      "cell_type": "code",
      "execution_count": null,
      "metadata": {
        "id": "U4kd6WddmuvC"
      },
      "outputs": [],
      "source": [
        "ran2=ranarr.reshape(2,5)"
      ]
    },
    {
      "cell_type": "code",
      "execution_count": null,
      "metadata": {
        "id": "UXXwq4wrmuvC"
      },
      "outputs": [],
      "source": [
        "ran2"
      ]
    },
    {
      "cell_type": "code",
      "execution_count": null,
      "metadata": {
        "id": "g7Y8b8m8muvD"
      },
      "outputs": [],
      "source": [
        "ran2.argmax()"
      ]
    },
    {
      "cell_type": "code",
      "execution_count": null,
      "metadata": {
        "id": "Efx4u9GemuvD"
      },
      "outputs": [],
      "source": [
        "ran2.max()"
      ]
    },
    {
      "cell_type": "markdown",
      "metadata": {
        "id": "OLabPBY-x9Dg"
      },
      "source": [
        "# Happy Learning!"
      ]
    }
  ],
  "metadata": {
    "colab": {
      "collapsed_sections": [
        "6xCoih_Nx9C5",
        "QDe4ZTxsx9DU"
      ],
      "provenance": [],
      "include_colab_link": true
    },
    "kernelspec": {
      "display_name": "Python 3 (ipykernel)",
      "language": "python",
      "name": "python3"
    },
    "language_info": {
      "codemirror_mode": {
        "name": "ipython",
        "version": 3
      },
      "file_extension": ".py",
      "mimetype": "text/x-python",
      "name": "python",
      "nbconvert_exporter": "python",
      "pygments_lexer": "ipython3",
      "version": "3.11.5"
    }
  },
  "nbformat": 4,
  "nbformat_minor": 0
}